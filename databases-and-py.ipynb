{
    "metadata": {
        "kernelspec": {
            "name": "python3",
            "display_name": "Python 3 (ipykernel)",
            "language": "python"
        },
        "language_info": {
            "name": "python",
            "version": "3.9.13",
            "mimetype": "text/x-python",
            "codemirror_mode": {
                "name": "ipython",
                "version": 3
            },
            "pygments_lexer": "ipython3",
            "nbconvert_exporter": "python",
            "file_extension": ".py"
        }
    },
    "nbformat_minor": 2,
    "nbformat": 4,
    "cells": [
        {
            "cell_type": "markdown",
            "source": [
                "# Exercises: Working with Databases in Python\n",
                "\n",
                "For the exercises, we will be practicing the steps outlined in this [article](https://towardsdatascience.com/do-you-know-python-has-a-built-in-database-d553989c87bd). You can skip the portion where the author downloads a separate SQL client to examine the database. "
            ],
            "metadata": {
                "azdata_cell_guid": "d7b89799-a102-479f-87b7-f2759ff1962e"
            },
            "attachments": {}
        },
        {
            "cell_type": "markdown",
            "source": [
                "## Import Libraries\n",
                "\n",
                "We will need `pandas` and `sqlite3`. SQLite is a small, self-contained database engine that comes with Python so you will not have to do any additional installations for this lesson. If you want to connect to a different database engine, such as SQL server, you may need additional libraries such as `sqlalchemy` or `pyodbc` and a tool called a driver which helps to connect a database to an application.\n",
                ""
            ],
            "metadata": {
                "azdata_cell_guid": "89a0b6d9-821d-44f5-9795-9519809b9108"
            },
            "attachments": {}
        },
        {
            "cell_type": "code",
            "source": [
                "# Import sqlite3 and pandas.\n",
                "import sqlite3 as sl \n",
                "import pandas as pd"
            ],
            "metadata": {
                "azdata_cell_guid": "865655b0-22e9-47f4-a5df-4bfe97dda4a3",
                "tags": [],
                "language": "python"
            },
            "outputs": [],
            "execution_count": 52
        },
        {
            "cell_type": "markdown",
            "source": [
                "## Create a Database\n",
                "\n",
                "In the article, the author shows how to use `sqlite3` to open a connection to an existing database or create a new one. Use this method to make a new database called `exercises.db`."
            ],
            "metadata": {
                "azdata_cell_guid": "be8436e2-68be-47f8-9fc9-06c235a6a128"
            }
        },
        {
            "cell_type": "code",
            "source": [
                "# Create a new database called exercises.db.\n",
                "con = sl.connect('exercises.db')\n",
                "\n",
                "#con is the variable that represents a connection to the database and is used to execute queries"
            ],
            "metadata": {
                "azdata_cell_guid": "707abc33-c6ee-416e-9358-c799f1fcbb12",
                "language": "python",
                "tags": []
            },
            "outputs": [],
            "execution_count": 53
        },
        {
            "cell_type": "markdown",
            "source": [
                "## Create a Table\n",
                "\n",
                "Follow the steps in the article to create a table called `favorite_books.db`. This table should include columns for the title, author, and a short description of why it is a favorite."
            ],
            "metadata": {
                "azdata_cell_guid": "dc9df060-ddc9-4573-bd74-3c97323f85a7"
            },
            "attachments": {}
        },
        {
            "cell_type": "code",
            "source": [
                "# Create a new table in your database.\n",
                "# with con:\n",
                "#     con.execute(\"\"\"\n",
                "#         CREATE TABLE bikes (\n",
                "#             id INTEGER NOT NULL PRIMARY KEY AUTOINCREMENT,\n",
                "#             make TEXT,\n",
                "#             model TEXT,\n",
                "#             type TEXT\n",
                "#         );\n",
                "#     \"\"\")\n",
                "\n",
                "\n",
                "\n",
                "\n",
                ""
            ],
            "metadata": {
                "azdata_cell_guid": "3cc6b80e-3fa2-4d2e-b2a9-1ea5d68ba01e",
                "language": "python",
                "tags": []
            },
            "outputs": [
                {
                    "output_type": "error",
                    "ename": "SyntaxError",
                    "evalue": "invalid syntax (468672662.py, line 11)",
                    "traceback": [
                        "\u001b[0;36m  File \u001b[0;32m\"/var/folders/lq/w30kt6cx66q87g2f83yq56n00000gn/T/ipykernel_6483/468672662.py\"\u001b[0;36m, line \u001b[0;32m11\u001b[0m\n\u001b[0;31m    DROP_TABLE bikes3;\u001b[0m\n\u001b[0m               ^\u001b[0m\n\u001b[0;31mSyntaxError\u001b[0m\u001b[0;31m:\u001b[0m invalid syntax\n"
                    ]
                }
            ],
            "execution_count": 59
        },
        {
            "cell_type": "markdown",
            "source": [
                "## Insert Records\n",
                "\n",
                "Add 3 entries to your table for your top 3 favorite books."
            ],
            "metadata": {
                "azdata_cell_guid": "e9acec60-1485-45c8-9f12-997f959d44cc"
            }
        },
        {
            "cell_type": "code",
            "source": [
                "# Add your 3 favorite books to your table.\n",
                "sql = 'INSERT INTO bikes3 (make, model, type) VALUES (?, ?, ?)'\n",
                "data = [\n",
                "    ('Marin', 'Bobcat 3', 'Mountain'),\n",
                "    ('Marin', 'Lombard 2', 'Road/Gravel'),\n",
                "    ('Bridgestone', 'Kabuki', 'Road')\n",
                "]\n",
                "\n",
                "with con:\n",
                "    con.executemany(sql, data)"
            ],
            "metadata": {
                "azdata_cell_guid": "c7b8e386-f3f4-42ad-aa91-a2da2e7904a5",
                "language": "python",
                "tags": []
            },
            "outputs": [],
            "execution_count": 47
        },
        {
            "cell_type": "markdown",
            "source": [
                "## Query Your Table\n",
                "\n",
                "Write a `SELECT` query to output the 3 records in your table."
            ],
            "metadata": {
                "azdata_cell_guid": "b2e48ba7-b418-4418-bb16-598fb82b964c"
            },
            "attachments": {}
        },
        {
            "cell_type": "code",
            "source": [
                "# Write your SELECT query here.\n",
                "data = con.execute('SELECT * FROM bikes')\n",
                "for row in data:\n",
                "    print(row)\n",
                ""
            ],
            "metadata": {
                "azdata_cell_guid": "c341e7e2-d635-4c26-b744-237c762f7f41",
                "tags": [],
                "language": "python"
            },
            "outputs": [
                {
                    "output_type": "stream",
                    "name": "stdout",
                    "text": "(1, 'Marin', 'Bobcat 3', 'Mountain')\n(2, 'Marin', 'Lombard 2', 'Road/Gravel')\n(3, 'Bridgestone', 'Kabuki', 'Road')\n(4, 'Marin', 'Bobcat 3', 'Mountain')\n(5, 'Marin', 'Lombard 2', 'Road/Gravel')\n(6, 'Bridgestone', 'Kabuki', 'Road')\n(7, 'Marin', 'Bobcat 3', 'Mountain')\n(8, 'Marin', 'Lombard 2', 'Road/Gravel')\n(9, 'Bridgestone', 'Kabuki', 'Road')\n(10, 'Marin', 'Bobcat 3', 'Mountain')\n(11, 'Marin', 'Lombard 2', 'Road/Gravel')\n(12, 'Bridgestone', 'Kabuki', 'Road')\n(13, 'Marin', 'Bobcat 3', 'Mountain')\n(14, 'Marin', 'Lombard 2', 'Road/Gravel')\n(15, 'Bridgestone', 'Kabuki', 'Road')\n"
                }
            ],
            "execution_count": 42
        },
        {
            "cell_type": "markdown",
            "source": [
                "## Create a New Table with Pandas\n",
                "\n",
                "Create a new table called `favorite_movies` with your top 3 favorite movies. Each movie should have an id and a title. This time, use Pandas to first make a dataframe and then write the dataframe to SQL. Write a `SELECT` query to confirm that the new table does have your top 3 favorite movies."
            ],
            "metadata": {
                "azdata_cell_guid": "2127737d-71cd-4f0d-a84e-b1db8ad54af7"
            }
        },
        {
            "cell_type": "code",
            "source": [
                "# Use Pandas to make a new table in your database.\n",
                "\n",
                "df_dogs = pd.DataFrame({\n",
                "    'id': [1, 2, 3],\n",
                "    'name': ['Finley', 'Lily', 'Charlie'],\n",
                "    'age': [10, 4, 7]\n",
                "})\n",
                "\n",
                "df_dogs.to_sql('launchcode_dogs2', con)\n",
                "\n",
                "data = con.execute('SELECT * FROM launchcode_dogs2')\n",
                "for row in data:\n",
                "    print(row)"
            ],
            "metadata": {
                "azdata_cell_guid": "b4b6dd20-ccc0-42e7-b1e7-79d8596b3f9c",
                "language": "python"
            },
            "outputs": [
                {
                    "output_type": "stream",
                    "name": "stdout",
                    "text": "(0, 1, 'Finley', 10)\n(1, 2, 'Lily', 4)\n(2, 3, 'Charlie', 7)\n"
                }
            ],
            "execution_count": 44
        }
    ]
}